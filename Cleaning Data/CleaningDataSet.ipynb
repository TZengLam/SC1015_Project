{
 "cells": [
  {
   "cell_type": "markdown",
   "id": "a1199919",
   "metadata": {
    "id": "a1199919"
   },
   "source": [
    "## Importing Pandas Library"
   ]
  },
  {
   "cell_type": "code",
   "execution_count": 1,
   "id": "f526cdd1",
   "metadata": {
    "id": "f526cdd1"
   },
   "outputs": [],
   "source": [
    "import pandas as pd"
   ]
  },
  {
   "cell_type": "markdown",
   "id": "9d003a5b",
   "metadata": {
    "id": "9d003a5b"
   },
   "source": [
    "## Importing csv file"
   ]
  },
  {
   "cell_type": "code",
   "execution_count": 2,
   "id": "2eb2c782",
   "metadata": {
    "id": "2eb2c782"
   },
   "outputs": [],
   "source": [
    "df = pd.read_csv('(Error Free) sgcarmart.csv')"
   ]
  },
  {
   "cell_type": "markdown",
   "id": "8a1f14ad",
   "metadata": {},
   "source": [
    "Our (Error Free) sgcarmart dataset was obtained by web-scrapping the sgcarmart.com website through a web scraper tool from webscraper.io."
   ]
  },
  {
   "cell_type": "code",
   "execution_count": 3,
   "id": "138eddb3",
   "metadata": {
    "colab": {
     "base_uri": "https://localhost:8080/"
    },
    "executionInfo": {
     "elapsed": 19,
     "status": "ok",
     "timestamp": 1648563512459,
     "user": {
      "displayName": "Marcus Ong",
      "userId": "05632519426638303428"
     },
     "user_tz": -480
    },
    "id": "138eddb3",
    "outputId": "692ddcde-fd81-442b-cd78-38ed84ee8672"
   },
   "outputs": [
    {
     "data": {
      "text/plain": [
       "Index(['RefLink', 'CarName', 'Price', 'Depreciation', 'Mileage', 'Road Tax',\n",
       "       'Dereg Value', 'COE', 'Engine Cap', 'Curb Weight', 'Type of Vehicle',\n",
       "       'Reg Date', 'Transmission', 'OMV', 'ARF', 'Power', 'No of Owners'],\n",
       "      dtype='object')"
      ]
     },
     "execution_count": 3,
     "metadata": {},
     "output_type": "execute_result"
    }
   ],
   "source": [
    "df.columns"
   ]
  },
  {
   "cell_type": "code",
   "execution_count": 4,
   "id": "2395959b",
   "metadata": {
    "colab": {
     "base_uri": "https://localhost:8080/",
     "height": 669
    },
    "executionInfo": {
     "elapsed": 17,
     "status": "ok",
     "timestamp": 1648563512460,
     "user": {
      "displayName": "Marcus Ong",
      "userId": "05632519426638303428"
     },
     "user_tz": -480
    },
    "id": "2395959b",
    "outputId": "35002d51-4a0e-4fb2-d5a4-70ba1f78e1bd"
   },
   "outputs": [
    {
     "data": {
      "text/html": [
       "<div>\n",
       "<style scoped>\n",
       "    .dataframe tbody tr th:only-of-type {\n",
       "        vertical-align: middle;\n",
       "    }\n",
       "\n",
       "    .dataframe tbody tr th {\n",
       "        vertical-align: top;\n",
       "    }\n",
       "\n",
       "    .dataframe thead th {\n",
       "        text-align: right;\n",
       "    }\n",
       "</style>\n",
       "<table border=\"1\" class=\"dataframe\">\n",
       "  <thead>\n",
       "    <tr style=\"text-align: right;\">\n",
       "      <th></th>\n",
       "      <th>RefLink</th>\n",
       "      <th>CarName</th>\n",
       "      <th>Price</th>\n",
       "      <th>Depreciation</th>\n",
       "      <th>Mileage</th>\n",
       "      <th>Road Tax</th>\n",
       "      <th>Dereg Value</th>\n",
       "      <th>COE</th>\n",
       "      <th>Engine Cap</th>\n",
       "      <th>Curb Weight</th>\n",
       "      <th>Type of Vehicle</th>\n",
       "      <th>Reg Date</th>\n",
       "      <th>Transmission</th>\n",
       "      <th>OMV</th>\n",
       "      <th>ARF</th>\n",
       "      <th>Power</th>\n",
       "      <th>No of Owners</th>\n",
       "    </tr>\n",
       "  </thead>\n",
       "  <tbody>\n",
       "    <tr>\n",
       "      <th>0</th>\n",
       "      <td>https://www.sgcarmart.com/used_cars/info.php?I...</td>\n",
       "      <td>Volvo V40 T4 R-Design</td>\n",
       "      <td>$115,800</td>\n",
       "      <td>$14,120 /yr\\nView models with similar depre</td>\n",
       "      <td>17,000 km (6.3k /yr)</td>\n",
       "      <td>$1,176 /yr</td>\n",
       "      <td>$44,075 as of today (change)</td>\n",
       "      <td>$34,000</td>\n",
       "      <td>1,969 cc</td>\n",
       "      <td>1,454 kg</td>\n",
       "      <td>Hatchback</td>\n",
       "      <td>08-Jul-2019\\n(7yrs 3mths 13days COE left)</td>\n",
       "      <td>Auto</td>\n",
       "      <td>$24,074</td>\n",
       "      <td>$25,704</td>\n",
       "      <td>140.0 kW (187 bhp)</td>\n",
       "      <td>1</td>\n",
       "    </tr>\n",
       "    <tr>\n",
       "      <th>1</th>\n",
       "      <td>https://www.sgcarmart.com/used_cars/info.php?I...</td>\n",
       "      <td>Land Rover Range Rover Sport Diesel 3.0A 7-Seater</td>\n",
       "      <td>$188,888</td>\n",
       "      <td>$27,100 /yr\\nView models with similar depre</td>\n",
       "      <td>133,000 km (24.6k /yr)</td>\n",
       "      <td>$3,376 /yr</td>\n",
       "      <td>$115,977 as of today (change)</td>\n",
       "      <td>$56,956</td>\n",
       "      <td>2,993 cc</td>\n",
       "      <td>2,183 kg</td>\n",
       "      <td>SUV</td>\n",
       "      <td>28-Oct-2016\\n(4yrs 7mths 3days COE left)</td>\n",
       "      <td>Auto</td>\n",
       "      <td>$86,985</td>\n",
       "      <td>$128,573</td>\n",
       "      <td>225.0 kW (301 bhp)</td>\n",
       "      <td>2</td>\n",
       "    </tr>\n",
       "    <tr>\n",
       "      <th>2</th>\n",
       "      <td>https://www.sgcarmart.com/used_cars/info.php?I...</td>\n",
       "      <td>Volvo XC60 T5 Momentum</td>\n",
       "      <td>$170,000</td>\n",
       "      <td>$22,680 /yr\\nView models with similar depre</td>\n",
       "      <td>58,000 km (16.5k /yr)</td>\n",
       "      <td>$1,176 /yr</td>\n",
       "      <td>$54,933 as of today (change)</td>\n",
       "      <td>$32,311</td>\n",
       "      <td>1,969 cc</td>\n",
       "      <td>1,841 kg</td>\n",
       "      <td>SUV</td>\n",
       "      <td>20-Sep-2018\\n(6yrs 5mths 26days COE left)</td>\n",
       "      <td>Auto</td>\n",
       "      <td>$38,070</td>\n",
       "      <td>$45,298</td>\n",
       "      <td>187.0 kW (250 bhp)</td>\n",
       "      <td>1</td>\n",
       "    </tr>\n",
       "    <tr>\n",
       "      <th>3</th>\n",
       "      <td>https://www.sgcarmart.com/used_cars/info.php?I...</td>\n",
       "      <td>Toyota Voxy 2.0A X (COE till 09/2028)</td>\n",
       "      <td>$68,888</td>\n",
       "      <td>$10,580 /yr</td>\n",
       "      <td>176,000 km (13k /yr)</td>\n",
       "      <td>$1,674 /yr</td>\n",
       "      <td>$21,727 as of today (change)</td>\n",
       "      <td>$33,377</td>\n",
       "      <td>1,986 cc</td>\n",
       "      <td>1,560 kg</td>\n",
       "      <td>MPV</td>\n",
       "      <td>25-Sep-2008\\n(6yrs 6mths  COE left)</td>\n",
       "      <td>Auto</td>\n",
       "      <td>$22,387</td>\n",
       "      <td>$22,387</td>\n",
       "      <td>105.0 kW (140 bhp)</td>\n",
       "      <td>4</td>\n",
       "    </tr>\n",
       "    <tr>\n",
       "      <th>4</th>\n",
       "      <td>https://www.sgcarmart.com/used_cars/info.php?I...</td>\n",
       "      <td>Audi A3 Sedan 1.4A TFSI CoD S-tronic</td>\n",
       "      <td>$100,800</td>\n",
       "      <td>$13,290 /yr\\nView models with similar depre</td>\n",
       "      <td>96,775 km (28.8k /yr)</td>\n",
       "      <td>$624 /yr</td>\n",
       "      <td>$40,187 as of today (change)</td>\n",
       "      <td>$32,302</td>\n",
       "      <td>1,395 cc</td>\n",
       "      <td>1,320 kg</td>\n",
       "      <td>Luxury Sedan</td>\n",
       "      <td>13-Nov-2018\\n(6yrs 7mths 19days COE left)</td>\n",
       "      <td>Auto</td>\n",
       "      <td>$23,548</td>\n",
       "      <td>$24,968</td>\n",
       "      <td>110.0 kW (147 bhp)</td>\n",
       "      <td>1</td>\n",
       "    </tr>\n",
       "  </tbody>\n",
       "</table>\n",
       "</div>"
      ],
      "text/plain": [
       "                                             RefLink  \\\n",
       "0  https://www.sgcarmart.com/used_cars/info.php?I...   \n",
       "1  https://www.sgcarmart.com/used_cars/info.php?I...   \n",
       "2  https://www.sgcarmart.com/used_cars/info.php?I...   \n",
       "3  https://www.sgcarmart.com/used_cars/info.php?I...   \n",
       "4  https://www.sgcarmart.com/used_cars/info.php?I...   \n",
       "\n",
       "                                             CarName     Price  \\\n",
       "0                              Volvo V40 T4 R-Design  $115,800   \n",
       "1  Land Rover Range Rover Sport Diesel 3.0A 7-Seater  $188,888   \n",
       "2                             Volvo XC60 T5 Momentum  $170,000   \n",
       "3              Toyota Voxy 2.0A X (COE till 09/2028)   $68,888   \n",
       "4               Audi A3 Sedan 1.4A TFSI CoD S-tronic  $100,800   \n",
       "\n",
       "                                  Depreciation                 Mileage  \\\n",
       "0  $14,120 /yr\\nView models with similar depre    17,000 km (6.3k /yr)   \n",
       "1  $27,100 /yr\\nView models with similar depre  133,000 km (24.6k /yr)   \n",
       "2  $22,680 /yr\\nView models with similar depre   58,000 km (16.5k /yr)   \n",
       "3                                  $10,580 /yr    176,000 km (13k /yr)   \n",
       "4  $13,290 /yr\\nView models with similar depre   96,775 km (28.8k /yr)   \n",
       "\n",
       "     Road Tax                    Dereg Value      COE Engine Cap Curb Weight  \\\n",
       "0  $1,176 /yr   $44,075 as of today (change)  $34,000   1,969 cc    1,454 kg   \n",
       "1  $3,376 /yr  $115,977 as of today (change)  $56,956   2,993 cc    2,183 kg   \n",
       "2  $1,176 /yr   $54,933 as of today (change)  $32,311   1,969 cc    1,841 kg   \n",
       "3  $1,674 /yr   $21,727 as of today (change)  $33,377   1,986 cc    1,560 kg   \n",
       "4    $624 /yr   $40,187 as of today (change)  $32,302   1,395 cc    1,320 kg   \n",
       "\n",
       "  Type of Vehicle                                   Reg Date Transmission  \\\n",
       "0       Hatchback  08-Jul-2019\\n(7yrs 3mths 13days COE left)         Auto   \n",
       "1             SUV   28-Oct-2016\\n(4yrs 7mths 3days COE left)         Auto   \n",
       "2             SUV  20-Sep-2018\\n(6yrs 5mths 26days COE left)         Auto   \n",
       "3             MPV        25-Sep-2008\\n(6yrs 6mths  COE left)         Auto   \n",
       "4    Luxury Sedan  13-Nov-2018\\n(6yrs 7mths 19days COE left)         Auto   \n",
       "\n",
       "       OMV       ARF               Power  No of Owners  \n",
       "0  $24,074   $25,704  140.0 kW (187 bhp)             1  \n",
       "1  $86,985  $128,573  225.0 kW (301 bhp)             2  \n",
       "2  $38,070   $45,298  187.0 kW (250 bhp)             1  \n",
       "3  $22,387   $22,387  105.0 kW (140 bhp)             4  \n",
       "4  $23,548   $24,968  110.0 kW (147 bhp)             1  "
      ]
     },
     "execution_count": 4,
     "metadata": {},
     "output_type": "execute_result"
    }
   ],
   "source": [
    "df.head()"
   ]
  },
  {
   "cell_type": "code",
   "execution_count": 5,
   "id": "f63e81e2",
   "metadata": {
    "colab": {
     "base_uri": "https://localhost:8080/"
    },
    "executionInfo": {
     "elapsed": 15,
     "status": "ok",
     "timestamp": 1648563512460,
     "user": {
      "displayName": "Marcus Ong",
      "userId": "05632519426638303428"
     },
     "user_tz": -480
    },
    "id": "f63e81e2",
    "outputId": "561b86c7-f4ac-40ca-9315-50c9c34cd0e8"
   },
   "outputs": [
    {
     "name": "stdout",
     "output_type": "stream",
     "text": [
      "<class 'pandas.core.frame.DataFrame'>\n",
      "RangeIndex: 10361 entries, 0 to 10360\n",
      "Data columns (total 17 columns):\n",
      " #   Column           Non-Null Count  Dtype \n",
      "---  ------           --------------  ----- \n",
      " 0   RefLink          10361 non-null  object\n",
      " 1   CarName          10361 non-null  object\n",
      " 2   Price            10361 non-null  object\n",
      " 3   Depreciation     10361 non-null  object\n",
      " 4   Mileage          10361 non-null  object\n",
      " 5   Road Tax         10361 non-null  object\n",
      " 6   Dereg Value      10361 non-null  object\n",
      " 7   COE              10361 non-null  object\n",
      " 8   Engine Cap       10361 non-null  object\n",
      " 9   Curb Weight      10361 non-null  object\n",
      " 10  Type of Vehicle  10361 non-null  object\n",
      " 11  Reg Date         10361 non-null  object\n",
      " 12  Transmission     10361 non-null  object\n",
      " 13  OMV              10361 non-null  object\n",
      " 14  ARF              10361 non-null  object\n",
      " 15  Power            10361 non-null  object\n",
      " 16  No of Owners     10361 non-null  int64 \n",
      "dtypes: int64(1), object(16)\n",
      "memory usage: 1.3+ MB\n"
     ]
    }
   ],
   "source": [
    "df.info()"
   ]
  },
  {
   "cell_type": "markdown",
   "id": "2ae060ea",
   "metadata": {
    "id": "2ae060ea"
   },
   "source": [
    "## Cleaning the data:\n",
    "\n",
    "Since we have webscrapped the information from the 'sgcarmart.com' website, the data collected are disorganised. Thus, there is a need to clean the data before we start our analysis."
   ]
  },
  {
   "cell_type": "markdown",
   "id": "e22792ae",
   "metadata": {
    "id": "e22792ae"
   },
   "source": [
    "### 1) Modifying 'RefLink' column\n",
    "\n",
    "The 'RefLink' column holds the reference links to each car listing in sgcarmart.  \n",
    "An example is:"
   ]
  },
  {
   "cell_type": "code",
   "execution_count": 6,
   "id": "09f4ce42",
   "metadata": {
    "colab": {
     "base_uri": "https://localhost:8080/",
     "height": 35
    },
    "executionInfo": {
     "elapsed": 14,
     "status": "ok",
     "timestamp": 1648563512461,
     "user": {
      "displayName": "Marcus Ong",
      "userId": "05632519426638303428"
     },
     "user_tz": -480
    },
    "id": "09f4ce42",
    "outputId": "8f97f218-58e3-4d2f-d290-e58aea443bf8"
   },
   "outputs": [
    {
     "data": {
      "text/plain": [
       "'https://www.sgcarmart.com/used_cars/info.php?ID=1081489&DL=2178'"
      ]
     },
     "execution_count": 6,
     "metadata": {},
     "output_type": "execute_result"
    }
   ],
   "source": [
    "df['RefLink'][0]"
   ]
  },
  {
   "cell_type": "markdown",
   "id": "4af69f9a",
   "metadata": {
    "id": "4af69f9a"
   },
   "source": [
    "Thus, instead of keeping the reference links as data, we would like to retain the CarID.  \n",
    "As seen in the above link, the CarID is **1081489**."
   ]
  },
  {
   "cell_type": "code",
   "execution_count": 7,
   "id": "e4768132",
   "metadata": {
    "colab": {
     "base_uri": "https://localhost:8080/",
     "height": 669
    },
    "executionInfo": {
     "elapsed": 957,
     "status": "ok",
     "timestamp": 1648563513404,
     "user": {
      "displayName": "Marcus Ong",
      "userId": "05632519426638303428"
     },
     "user_tz": -480
    },
    "id": "e4768132",
    "outputId": "6c8d5f30-43f6-40b0-bcce-8da2cef28ba8"
   },
   "outputs": [
    {
     "data": {
      "text/html": [
       "<div>\n",
       "<style scoped>\n",
       "    .dataframe tbody tr th:only-of-type {\n",
       "        vertical-align: middle;\n",
       "    }\n",
       "\n",
       "    .dataframe tbody tr th {\n",
       "        vertical-align: top;\n",
       "    }\n",
       "\n",
       "    .dataframe thead th {\n",
       "        text-align: right;\n",
       "    }\n",
       "</style>\n",
       "<table border=\"1\" class=\"dataframe\">\n",
       "  <thead>\n",
       "    <tr style=\"text-align: right;\">\n",
       "      <th></th>\n",
       "      <th>RefLink</th>\n",
       "      <th>CarID</th>\n",
       "      <th>CarName</th>\n",
       "      <th>Price</th>\n",
       "      <th>Depreciation</th>\n",
       "      <th>Mileage</th>\n",
       "      <th>Road Tax</th>\n",
       "      <th>Dereg Value</th>\n",
       "      <th>COE</th>\n",
       "      <th>Engine Cap</th>\n",
       "      <th>Curb Weight</th>\n",
       "      <th>Type of Vehicle</th>\n",
       "      <th>Reg Date</th>\n",
       "      <th>Transmission</th>\n",
       "      <th>OMV</th>\n",
       "      <th>ARF</th>\n",
       "      <th>Power</th>\n",
       "      <th>No of Owners</th>\n",
       "    </tr>\n",
       "  </thead>\n",
       "  <tbody>\n",
       "    <tr>\n",
       "      <th>0</th>\n",
       "      <td>https://www.sgcarmart.com/used_cars/info.php?I...</td>\n",
       "      <td>1081489</td>\n",
       "      <td>Volvo V40 T4 R-Design</td>\n",
       "      <td>$115,800</td>\n",
       "      <td>$14,120 /yr\\nView models with similar depre</td>\n",
       "      <td>17,000 km (6.3k /yr)</td>\n",
       "      <td>$1,176 /yr</td>\n",
       "      <td>$44,075 as of today (change)</td>\n",
       "      <td>$34,000</td>\n",
       "      <td>1,969 cc</td>\n",
       "      <td>1,454 kg</td>\n",
       "      <td>Hatchback</td>\n",
       "      <td>08-Jul-2019\\n(7yrs 3mths 13days COE left)</td>\n",
       "      <td>Auto</td>\n",
       "      <td>$24,074</td>\n",
       "      <td>$25,704</td>\n",
       "      <td>140.0 kW (187 bhp)</td>\n",
       "      <td>1</td>\n",
       "    </tr>\n",
       "    <tr>\n",
       "      <th>1</th>\n",
       "      <td>https://www.sgcarmart.com/used_cars/info.php?I...</td>\n",
       "      <td>1070886</td>\n",
       "      <td>Land Rover Range Rover Sport Diesel 3.0A 7-Seater</td>\n",
       "      <td>$188,888</td>\n",
       "      <td>$27,100 /yr\\nView models with similar depre</td>\n",
       "      <td>133,000 km (24.6k /yr)</td>\n",
       "      <td>$3,376 /yr</td>\n",
       "      <td>$115,977 as of today (change)</td>\n",
       "      <td>$56,956</td>\n",
       "      <td>2,993 cc</td>\n",
       "      <td>2,183 kg</td>\n",
       "      <td>SUV</td>\n",
       "      <td>28-Oct-2016\\n(4yrs 7mths 3days COE left)</td>\n",
       "      <td>Auto</td>\n",
       "      <td>$86,985</td>\n",
       "      <td>$128,573</td>\n",
       "      <td>225.0 kW (301 bhp)</td>\n",
       "      <td>2</td>\n",
       "    </tr>\n",
       "    <tr>\n",
       "      <th>2</th>\n",
       "      <td>https://www.sgcarmart.com/used_cars/info.php?I...</td>\n",
       "      <td>1082885</td>\n",
       "      <td>Volvo XC60 T5 Momentum</td>\n",
       "      <td>$170,000</td>\n",
       "      <td>$22,680 /yr\\nView models with similar depre</td>\n",
       "      <td>58,000 km (16.5k /yr)</td>\n",
       "      <td>$1,176 /yr</td>\n",
       "      <td>$54,933 as of today (change)</td>\n",
       "      <td>$32,311</td>\n",
       "      <td>1,969 cc</td>\n",
       "      <td>1,841 kg</td>\n",
       "      <td>SUV</td>\n",
       "      <td>20-Sep-2018\\n(6yrs 5mths 26days COE left)</td>\n",
       "      <td>Auto</td>\n",
       "      <td>$38,070</td>\n",
       "      <td>$45,298</td>\n",
       "      <td>187.0 kW (250 bhp)</td>\n",
       "      <td>1</td>\n",
       "    </tr>\n",
       "    <tr>\n",
       "      <th>3</th>\n",
       "      <td>https://www.sgcarmart.com/used_cars/info.php?I...</td>\n",
       "      <td>1080087</td>\n",
       "      <td>Toyota Voxy 2.0A X (COE till 09/2028)</td>\n",
       "      <td>$68,888</td>\n",
       "      <td>$10,580 /yr</td>\n",
       "      <td>176,000 km (13k /yr)</td>\n",
       "      <td>$1,674 /yr</td>\n",
       "      <td>$21,727 as of today (change)</td>\n",
       "      <td>$33,377</td>\n",
       "      <td>1,986 cc</td>\n",
       "      <td>1,560 kg</td>\n",
       "      <td>MPV</td>\n",
       "      <td>25-Sep-2008\\n(6yrs 6mths  COE left)</td>\n",
       "      <td>Auto</td>\n",
       "      <td>$22,387</td>\n",
       "      <td>$22,387</td>\n",
       "      <td>105.0 kW (140 bhp)</td>\n",
       "      <td>4</td>\n",
       "    </tr>\n",
       "    <tr>\n",
       "      <th>4</th>\n",
       "      <td>https://www.sgcarmart.com/used_cars/info.php?I...</td>\n",
       "      <td>1079487</td>\n",
       "      <td>Audi A3 Sedan 1.4A TFSI CoD S-tronic</td>\n",
       "      <td>$100,800</td>\n",
       "      <td>$13,290 /yr\\nView models with similar depre</td>\n",
       "      <td>96,775 km (28.8k /yr)</td>\n",
       "      <td>$624 /yr</td>\n",
       "      <td>$40,187 as of today (change)</td>\n",
       "      <td>$32,302</td>\n",
       "      <td>1,395 cc</td>\n",
       "      <td>1,320 kg</td>\n",
       "      <td>Luxury Sedan</td>\n",
       "      <td>13-Nov-2018\\n(6yrs 7mths 19days COE left)</td>\n",
       "      <td>Auto</td>\n",
       "      <td>$23,548</td>\n",
       "      <td>$24,968</td>\n",
       "      <td>110.0 kW (147 bhp)</td>\n",
       "      <td>1</td>\n",
       "    </tr>\n",
       "  </tbody>\n",
       "</table>\n",
       "</div>"
      ],
      "text/plain": [
       "                                             RefLink    CarID  \\\n",
       "0  https://www.sgcarmart.com/used_cars/info.php?I...  1081489   \n",
       "1  https://www.sgcarmart.com/used_cars/info.php?I...  1070886   \n",
       "2  https://www.sgcarmart.com/used_cars/info.php?I...  1082885   \n",
       "3  https://www.sgcarmart.com/used_cars/info.php?I...  1080087   \n",
       "4  https://www.sgcarmart.com/used_cars/info.php?I...  1079487   \n",
       "\n",
       "                                             CarName     Price  \\\n",
       "0                              Volvo V40 T4 R-Design  $115,800   \n",
       "1  Land Rover Range Rover Sport Diesel 3.0A 7-Seater  $188,888   \n",
       "2                             Volvo XC60 T5 Momentum  $170,000   \n",
       "3              Toyota Voxy 2.0A X (COE till 09/2028)   $68,888   \n",
       "4               Audi A3 Sedan 1.4A TFSI CoD S-tronic  $100,800   \n",
       "\n",
       "                                  Depreciation                 Mileage  \\\n",
       "0  $14,120 /yr\\nView models with similar depre    17,000 km (6.3k /yr)   \n",
       "1  $27,100 /yr\\nView models with similar depre  133,000 km (24.6k /yr)   \n",
       "2  $22,680 /yr\\nView models with similar depre   58,000 km (16.5k /yr)   \n",
       "3                                  $10,580 /yr    176,000 km (13k /yr)   \n",
       "4  $13,290 /yr\\nView models with similar depre   96,775 km (28.8k /yr)   \n",
       "\n",
       "     Road Tax                    Dereg Value      COE Engine Cap Curb Weight  \\\n",
       "0  $1,176 /yr   $44,075 as of today (change)  $34,000   1,969 cc    1,454 kg   \n",
       "1  $3,376 /yr  $115,977 as of today (change)  $56,956   2,993 cc    2,183 kg   \n",
       "2  $1,176 /yr   $54,933 as of today (change)  $32,311   1,969 cc    1,841 kg   \n",
       "3  $1,674 /yr   $21,727 as of today (change)  $33,377   1,986 cc    1,560 kg   \n",
       "4    $624 /yr   $40,187 as of today (change)  $32,302   1,395 cc    1,320 kg   \n",
       "\n",
       "  Type of Vehicle                                   Reg Date Transmission  \\\n",
       "0       Hatchback  08-Jul-2019\\n(7yrs 3mths 13days COE left)         Auto   \n",
       "1             SUV   28-Oct-2016\\n(4yrs 7mths 3days COE left)         Auto   \n",
       "2             SUV  20-Sep-2018\\n(6yrs 5mths 26days COE left)         Auto   \n",
       "3             MPV        25-Sep-2008\\n(6yrs 6mths  COE left)         Auto   \n",
       "4    Luxury Sedan  13-Nov-2018\\n(6yrs 7mths 19days COE left)         Auto   \n",
       "\n",
       "       OMV       ARF               Power  No of Owners  \n",
       "0  $24,074   $25,704  140.0 kW (187 bhp)             1  \n",
       "1  $86,985  $128,573  225.0 kW (301 bhp)             2  \n",
       "2  $38,070   $45,298  187.0 kW (250 bhp)             1  \n",
       "3  $22,387   $22,387  105.0 kW (140 bhp)             4  \n",
       "4  $23,548   $24,968  110.0 kW (147 bhp)             1  "
      ]
     },
     "execution_count": 7,
     "metadata": {},
     "output_type": "execute_result"
    }
   ],
   "source": [
    "array = []\n",
    "\n",
    "for index in df['RefLink'].index:\n",
    "    array.append(df['RefLink'].loc[index].split(\"?\")[1])\n",
    "    \n",
    "for string in array:\n",
    "    array[array.index(string)] = string.split(\"&\")[0].lstrip(\"ID=\")\n",
    "\n",
    "df.insert(1, \"CarID\", array)\n",
    "\n",
    "df.head()"
   ]
  },
  {
   "cell_type": "markdown",
   "id": "d0ad622b",
   "metadata": {
    "id": "d0ad622b"
   },
   "source": [
    "Now we can remove the 'RefLink' column."
   ]
  },
  {
   "cell_type": "code",
   "execution_count": 8,
   "id": "98f58077",
   "metadata": {
    "id": "98f58077"
   },
   "outputs": [],
   "source": [
    "df = df.drop(columns=['RefLink'])"
   ]
  },
  {
   "cell_type": "markdown",
   "id": "478c505f",
   "metadata": {
    "id": "478c505f"
   },
   "source": [
    "### 2)Trim CarName\n",
    "'CarName' column holds the name of the car in each listing. However, some of the data contains excess.  \n",
    "For example:"
   ]
  },
  {
   "cell_type": "code",
   "execution_count": 9,
   "id": "20d26d4c",
   "metadata": {
    "colab": {
     "base_uri": "https://localhost:8080/",
     "height": 35
    },
    "executionInfo": {
     "elapsed": 8,
     "status": "ok",
     "timestamp": 1648563513406,
     "user": {
      "displayName": "Marcus Ong",
      "userId": "05632519426638303428"
     },
     "user_tz": -480
    },
    "id": "20d26d4c",
    "outputId": "07db341a-8ef3-4f8b-f7c7-96b879a4138b"
   },
   "outputs": [
    {
     "data": {
      "text/plain": [
       "'Toyota Voxy 2.0A X (COE till 09/2028)'"
      ]
     },
     "execution_count": 9,
     "metadata": {},
     "output_type": "execute_result"
    }
   ],
   "source": [
    "df['CarName'][3]"
   ]
  },
  {
   "cell_type": "markdown",
   "id": "552c520a",
   "metadata": {
    "id": "552c520a"
   },
   "source": [
    "Thus, we would like to trim off the excess string \"(COE till 09/2028)\" as the duration of COE is included in the 'Reg Date' column."
   ]
  },
  {
   "cell_type": "code",
   "execution_count": 10,
   "id": "9669ff45",
   "metadata": {
    "colab": {
     "base_uri": "https://localhost:8080/",
     "height": 669
    },
    "executionInfo": {
     "elapsed": 854,
     "status": "ok",
     "timestamp": 1648563514253,
     "user": {
      "displayName": "Marcus Ong",
      "userId": "05632519426638303428"
     },
     "user_tz": -480
    },
    "id": "9669ff45",
    "outputId": "5e58527b-97bf-4b52-91b0-a7fdc87e6918"
   },
   "outputs": [
    {
     "data": {
      "text/html": [
       "<div>\n",
       "<style scoped>\n",
       "    .dataframe tbody tr th:only-of-type {\n",
       "        vertical-align: middle;\n",
       "    }\n",
       "\n",
       "    .dataframe tbody tr th {\n",
       "        vertical-align: top;\n",
       "    }\n",
       "\n",
       "    .dataframe thead th {\n",
       "        text-align: right;\n",
       "    }\n",
       "</style>\n",
       "<table border=\"1\" class=\"dataframe\">\n",
       "  <thead>\n",
       "    <tr style=\"text-align: right;\">\n",
       "      <th></th>\n",
       "      <th>CarID</th>\n",
       "      <th>CarName</th>\n",
       "      <th>UsedCarName</th>\n",
       "      <th>Price</th>\n",
       "      <th>Depreciation</th>\n",
       "      <th>Mileage</th>\n",
       "      <th>Road Tax</th>\n",
       "      <th>Dereg Value</th>\n",
       "      <th>COE</th>\n",
       "      <th>Engine Cap</th>\n",
       "      <th>Curb Weight</th>\n",
       "      <th>Type of Vehicle</th>\n",
       "      <th>Reg Date</th>\n",
       "      <th>Transmission</th>\n",
       "      <th>OMV</th>\n",
       "      <th>ARF</th>\n",
       "      <th>Power</th>\n",
       "      <th>No of Owners</th>\n",
       "    </tr>\n",
       "  </thead>\n",
       "  <tbody>\n",
       "    <tr>\n",
       "      <th>0</th>\n",
       "      <td>1081489</td>\n",
       "      <td>Volvo V40 T4 R-Design</td>\n",
       "      <td>Volvo V40 T4 R-Design</td>\n",
       "      <td>$115,800</td>\n",
       "      <td>$14,120 /yr\\nView models with similar depre</td>\n",
       "      <td>17,000 km (6.3k /yr)</td>\n",
       "      <td>$1,176 /yr</td>\n",
       "      <td>$44,075 as of today (change)</td>\n",
       "      <td>$34,000</td>\n",
       "      <td>1,969 cc</td>\n",
       "      <td>1,454 kg</td>\n",
       "      <td>Hatchback</td>\n",
       "      <td>08-Jul-2019\\n(7yrs 3mths 13days COE left)</td>\n",
       "      <td>Auto</td>\n",
       "      <td>$24,074</td>\n",
       "      <td>$25,704</td>\n",
       "      <td>140.0 kW (187 bhp)</td>\n",
       "      <td>1</td>\n",
       "    </tr>\n",
       "    <tr>\n",
       "      <th>1</th>\n",
       "      <td>1070886</td>\n",
       "      <td>Land Rover Range Rover Sport Diesel 3.0A 7-Seater</td>\n",
       "      <td>Land Rover Range Rover Sport Diesel 3.0A 7-Seater</td>\n",
       "      <td>$188,888</td>\n",
       "      <td>$27,100 /yr\\nView models with similar depre</td>\n",
       "      <td>133,000 km (24.6k /yr)</td>\n",
       "      <td>$3,376 /yr</td>\n",
       "      <td>$115,977 as of today (change)</td>\n",
       "      <td>$56,956</td>\n",
       "      <td>2,993 cc</td>\n",
       "      <td>2,183 kg</td>\n",
       "      <td>SUV</td>\n",
       "      <td>28-Oct-2016\\n(4yrs 7mths 3days COE left)</td>\n",
       "      <td>Auto</td>\n",
       "      <td>$86,985</td>\n",
       "      <td>$128,573</td>\n",
       "      <td>225.0 kW (301 bhp)</td>\n",
       "      <td>2</td>\n",
       "    </tr>\n",
       "    <tr>\n",
       "      <th>2</th>\n",
       "      <td>1082885</td>\n",
       "      <td>Volvo XC60 T5 Momentum</td>\n",
       "      <td>Volvo XC60 T5 Momentum</td>\n",
       "      <td>$170,000</td>\n",
       "      <td>$22,680 /yr\\nView models with similar depre</td>\n",
       "      <td>58,000 km (16.5k /yr)</td>\n",
       "      <td>$1,176 /yr</td>\n",
       "      <td>$54,933 as of today (change)</td>\n",
       "      <td>$32,311</td>\n",
       "      <td>1,969 cc</td>\n",
       "      <td>1,841 kg</td>\n",
       "      <td>SUV</td>\n",
       "      <td>20-Sep-2018\\n(6yrs 5mths 26days COE left)</td>\n",
       "      <td>Auto</td>\n",
       "      <td>$38,070</td>\n",
       "      <td>$45,298</td>\n",
       "      <td>187.0 kW (250 bhp)</td>\n",
       "      <td>1</td>\n",
       "    </tr>\n",
       "    <tr>\n",
       "      <th>3</th>\n",
       "      <td>1080087</td>\n",
       "      <td>Toyota Voxy 2.0A X (COE till 09/2028)</td>\n",
       "      <td>Toyota Voxy 2.0A X</td>\n",
       "      <td>$68,888</td>\n",
       "      <td>$10,580 /yr</td>\n",
       "      <td>176,000 km (13k /yr)</td>\n",
       "      <td>$1,674 /yr</td>\n",
       "      <td>$21,727 as of today (change)</td>\n",
       "      <td>$33,377</td>\n",
       "      <td>1,986 cc</td>\n",
       "      <td>1,560 kg</td>\n",
       "      <td>MPV</td>\n",
       "      <td>25-Sep-2008\\n(6yrs 6mths  COE left)</td>\n",
       "      <td>Auto</td>\n",
       "      <td>$22,387</td>\n",
       "      <td>$22,387</td>\n",
       "      <td>105.0 kW (140 bhp)</td>\n",
       "      <td>4</td>\n",
       "    </tr>\n",
       "    <tr>\n",
       "      <th>4</th>\n",
       "      <td>1079487</td>\n",
       "      <td>Audi A3 Sedan 1.4A TFSI CoD S-tronic</td>\n",
       "      <td>Audi A3 Sedan 1.4A TFSI CoD S-tronic</td>\n",
       "      <td>$100,800</td>\n",
       "      <td>$13,290 /yr\\nView models with similar depre</td>\n",
       "      <td>96,775 km (28.8k /yr)</td>\n",
       "      <td>$624 /yr</td>\n",
       "      <td>$40,187 as of today (change)</td>\n",
       "      <td>$32,302</td>\n",
       "      <td>1,395 cc</td>\n",
       "      <td>1,320 kg</td>\n",
       "      <td>Luxury Sedan</td>\n",
       "      <td>13-Nov-2018\\n(6yrs 7mths 19days COE left)</td>\n",
       "      <td>Auto</td>\n",
       "      <td>$23,548</td>\n",
       "      <td>$24,968</td>\n",
       "      <td>110.0 kW (147 bhp)</td>\n",
       "      <td>1</td>\n",
       "    </tr>\n",
       "  </tbody>\n",
       "</table>\n",
       "</div>"
      ],
      "text/plain": [
       "     CarID                                            CarName  \\\n",
       "0  1081489                              Volvo V40 T4 R-Design   \n",
       "1  1070886  Land Rover Range Rover Sport Diesel 3.0A 7-Seater   \n",
       "2  1082885                             Volvo XC60 T5 Momentum   \n",
       "3  1080087              Toyota Voxy 2.0A X (COE till 09/2028)   \n",
       "4  1079487               Audi A3 Sedan 1.4A TFSI CoD S-tronic   \n",
       "\n",
       "                                         UsedCarName     Price  \\\n",
       "0                              Volvo V40 T4 R-Design  $115,800   \n",
       "1  Land Rover Range Rover Sport Diesel 3.0A 7-Seater  $188,888   \n",
       "2                             Volvo XC60 T5 Momentum  $170,000   \n",
       "3                                 Toyota Voxy 2.0A X   $68,888   \n",
       "4               Audi A3 Sedan 1.4A TFSI CoD S-tronic  $100,800   \n",
       "\n",
       "                                  Depreciation                 Mileage  \\\n",
       "0  $14,120 /yr\\nView models with similar depre    17,000 km (6.3k /yr)   \n",
       "1  $27,100 /yr\\nView models with similar depre  133,000 km (24.6k /yr)   \n",
       "2  $22,680 /yr\\nView models with similar depre   58,000 km (16.5k /yr)   \n",
       "3                                  $10,580 /yr    176,000 km (13k /yr)   \n",
       "4  $13,290 /yr\\nView models with similar depre   96,775 km (28.8k /yr)   \n",
       "\n",
       "     Road Tax                    Dereg Value      COE Engine Cap Curb Weight  \\\n",
       "0  $1,176 /yr   $44,075 as of today (change)  $34,000   1,969 cc    1,454 kg   \n",
       "1  $3,376 /yr  $115,977 as of today (change)  $56,956   2,993 cc    2,183 kg   \n",
       "2  $1,176 /yr   $54,933 as of today (change)  $32,311   1,969 cc    1,841 kg   \n",
       "3  $1,674 /yr   $21,727 as of today (change)  $33,377   1,986 cc    1,560 kg   \n",
       "4    $624 /yr   $40,187 as of today (change)  $32,302   1,395 cc    1,320 kg   \n",
       "\n",
       "  Type of Vehicle                                   Reg Date Transmission  \\\n",
       "0       Hatchback  08-Jul-2019\\n(7yrs 3mths 13days COE left)         Auto   \n",
       "1             SUV   28-Oct-2016\\n(4yrs 7mths 3days COE left)         Auto   \n",
       "2             SUV  20-Sep-2018\\n(6yrs 5mths 26days COE left)         Auto   \n",
       "3             MPV        25-Sep-2008\\n(6yrs 6mths  COE left)         Auto   \n",
       "4    Luxury Sedan  13-Nov-2018\\n(6yrs 7mths 19days COE left)         Auto   \n",
       "\n",
       "       OMV       ARF               Power  No of Owners  \n",
       "0  $24,074   $25,704  140.0 kW (187 bhp)             1  \n",
       "1  $86,985  $128,573  225.0 kW (301 bhp)             2  \n",
       "2  $38,070   $45,298  187.0 kW (250 bhp)             1  \n",
       "3  $22,387   $22,387  105.0 kW (140 bhp)             4  \n",
       "4  $23,548   $24,968  110.0 kW (147 bhp)             1  "
      ]
     },
     "execution_count": 10,
     "metadata": {},
     "output_type": "execute_result"
    }
   ],
   "source": [
    "array = []\n",
    "\n",
    "for index in df['CarName'].index:\n",
    "    array.append(df['CarName'].loc[index].split(\"(\")[0])\n",
    "\n",
    "for string in array:\n",
    "    array[array.index(string)] = string.rstrip()\n",
    "\n",
    "df.insert(2, \"UsedCarName\", array)\n",
    "\n",
    "df.head()"
   ]
  },
  {
   "cell_type": "code",
   "execution_count": 11,
   "id": "08045247",
   "metadata": {
    "id": "08045247"
   },
   "outputs": [],
   "source": [
    "df = df.drop(columns=['CarName'])"
   ]
  },
  {
   "cell_type": "code",
   "execution_count": 12,
   "id": "1152dcff",
   "metadata": {
    "id": "1152dcff"
   },
   "outputs": [],
   "source": [
    "df = df.rename(columns={'UsedCarName' : 'CarName'})"
   ]
  },
  {
   "cell_type": "markdown",
   "id": "48d2a856",
   "metadata": {
    "id": "48d2a856"
   },
   "source": [
    "### 3) Remove any empty data\n",
    "\n",
    "In most columns, they include N.A data. Thus, we would like to remove any data points that contain such data."
   ]
  },
  {
   "cell_type": "code",
   "execution_count": 13,
   "id": "6d3817ee",
   "metadata": {
    "colab": {
     "base_uri": "https://localhost:8080/"
    },
    "executionInfo": {
     "elapsed": 5,
     "status": "ok",
     "timestamp": 1648563514254,
     "user": {
      "displayName": "Marcus Ong",
      "userId": "05632519426638303428"
     },
     "user_tz": -480
    },
    "id": "6d3817ee",
    "outputId": "7049da3f-8ea9-4d72-80c3-43312e07bce2"
   },
   "outputs": [
    {
     "data": {
      "text/plain": [
       "(10323, 17)"
      ]
     },
     "execution_count": 13,
     "metadata": {},
     "output_type": "execute_result"
    }
   ],
   "source": [
    "array = []\n",
    "\n",
    "for index in df['Price'].index:\n",
    "    if not('N.A' in df['Price'].loc[index]):   \n",
    "        array.append(index)\n",
    "\n",
    "df = df.loc[array].reset_index(drop=True)\n",
    "df.shape"
   ]
  },
  {
   "cell_type": "code",
   "execution_count": 14,
   "id": "ded5deb2",
   "metadata": {
    "colab": {
     "base_uri": "https://localhost:8080/"
    },
    "executionInfo": {
     "elapsed": 294,
     "status": "ok",
     "timestamp": 1648563514544,
     "user": {
      "displayName": "Marcus Ong",
      "userId": "05632519426638303428"
     },
     "user_tz": -480
    },
    "id": "ded5deb2",
    "outputId": "7d14ba0f-4821-46fd-ef55-a95e9119c6bd"
   },
   "outputs": [
    {
     "data": {
      "text/plain": [
       "(10148, 17)"
      ]
     },
     "execution_count": 14,
     "metadata": {},
     "output_type": "execute_result"
    }
   ],
   "source": [
    "array = []\n",
    "\n",
    "for index in df['Depreciation'].index:\n",
    "    if not('N.A' in df['Depreciation'].loc[index]):   \n",
    "        array.append(index)\n",
    "\n",
    "df = df.loc[array].reset_index(drop=True)\n",
    "df.shape"
   ]
  },
  {
   "cell_type": "code",
   "execution_count": 15,
   "id": "d9d705ef",
   "metadata": {
    "colab": {
     "base_uri": "https://localhost:8080/"
    },
    "executionInfo": {
     "elapsed": 410,
     "status": "ok",
     "timestamp": 1648563514953,
     "user": {
      "displayName": "Marcus Ong",
      "userId": "05632519426638303428"
     },
     "user_tz": -480
    },
    "id": "d9d705ef",
    "outputId": "cc84ba82-363b-4af0-b4e4-d26e0cae2c86"
   },
   "outputs": [
    {
     "data": {
      "text/plain": [
       "(8505, 17)"
      ]
     },
     "execution_count": 15,
     "metadata": {},
     "output_type": "execute_result"
    }
   ],
   "source": [
    "array = []\n",
    "\n",
    "for index in df['Mileage'].index:\n",
    "    if not('N.A' in df['Mileage'].loc[index]):   \n",
    "        array.append(index)\n",
    "\n",
    "df = df.loc[array].reset_index(drop=True)\n",
    "df.shape"
   ]
  },
  {
   "cell_type": "code",
   "execution_count": 16,
   "id": "c945f031",
   "metadata": {
    "colab": {
     "base_uri": "https://localhost:8080/"
    },
    "executionInfo": {
     "elapsed": 3,
     "status": "ok",
     "timestamp": 1648563514953,
     "user": {
      "displayName": "Marcus Ong",
      "userId": "05632519426638303428"
     },
     "user_tz": -480
    },
    "id": "c945f031",
    "outputId": "9234d798-5a21-45a0-a53d-59008b9bfff8"
   },
   "outputs": [
    {
     "data": {
      "text/plain": [
       "(8504, 17)"
      ]
     },
     "execution_count": 16,
     "metadata": {},
     "output_type": "execute_result"
    }
   ],
   "source": [
    "array = []\n",
    "\n",
    "for index in df['Road Tax'].index:\n",
    "    if not('N.A' in df['Road Tax'].loc[index]):   \n",
    "        array.append(index)\n",
    "\n",
    "df = df.loc[array].reset_index(drop=True)\n",
    "df.shape"
   ]
  },
  {
   "cell_type": "code",
   "execution_count": 17,
   "id": "e7cacc07",
   "metadata": {
    "colab": {
     "base_uri": "https://localhost:8080/"
    },
    "executionInfo": {
     "elapsed": 3,
     "status": "ok",
     "timestamp": 1648563514953,
     "user": {
      "displayName": "Marcus Ong",
      "userId": "05632519426638303428"
     },
     "user_tz": -480
    },
    "id": "e7cacc07",
    "outputId": "f9a30384-e44a-4a52-c7ed-32608f5afa36"
   },
   "outputs": [
    {
     "data": {
      "text/plain": [
       "(8112, 17)"
      ]
     },
     "execution_count": 17,
     "metadata": {},
     "output_type": "execute_result"
    }
   ],
   "source": [
    "array = []\n",
    "\n",
    "for index in df['Dereg Value'].index:\n",
    "    if not('N.A' in df['Dereg Value'].loc[index]):   \n",
    "        array.append(index)\n",
    "\n",
    "df = df.loc[array].reset_index(drop=True)\n",
    "df.shape"
   ]
  },
  {
   "cell_type": "code",
   "execution_count": 18,
   "id": "d5666fce",
   "metadata": {
    "colab": {
     "base_uri": "https://localhost:8080/"
    },
    "executionInfo": {
     "elapsed": 375,
     "status": "ok",
     "timestamp": 1648563515326,
     "user": {
      "displayName": "Marcus Ong",
      "userId": "05632519426638303428"
     },
     "user_tz": -480
    },
    "id": "d5666fce",
    "outputId": "5c889633-c70f-4b61-a5e2-eba56ada1584"
   },
   "outputs": [
    {
     "data": {
      "text/plain": [
       "(8103, 17)"
      ]
     },
     "execution_count": 18,
     "metadata": {},
     "output_type": "execute_result"
    }
   ],
   "source": [
    "array = []\n",
    "\n",
    "for index in df['COE'].index:\n",
    "    if not('N.A' in df['COE'].loc[index]):   \n",
    "        array.append(index)\n",
    "\n",
    "df = df.loc[array].reset_index(drop=True)\n",
    "df.shape"
   ]
  },
  {
   "cell_type": "code",
   "execution_count": 19,
   "id": "624d6a05",
   "metadata": {
    "colab": {
     "base_uri": "https://localhost:8080/"
    },
    "executionInfo": {
     "elapsed": 15,
     "status": "ok",
     "timestamp": 1648563515327,
     "user": {
      "displayName": "Marcus Ong",
      "userId": "05632519426638303428"
     },
     "user_tz": -480
    },
    "id": "624d6a05",
    "outputId": "890b1535-deb7-4432-a961-c87e4aed9890"
   },
   "outputs": [
    {
     "data": {
      "text/plain": [
       "(8008, 17)"
      ]
     },
     "execution_count": 19,
     "metadata": {},
     "output_type": "execute_result"
    }
   ],
   "source": [
    "array = []\n",
    "\n",
    "for index in df['Curb Weight'].index:\n",
    "    if not('N.A' in df['Curb Weight'].loc[index]):   \n",
    "        array.append(index)\n",
    "\n",
    "df = df.loc[array].reset_index(drop=True)\n",
    "df.shape"
   ]
  },
  {
   "cell_type": "markdown",
   "id": "664fdcd3",
   "metadata": {
    "id": "664fdcd3"
   },
   "source": [
    "### 4) Convert Columns datatypes"
   ]
  },
  {
   "cell_type": "markdown",
   "id": "14ed086b",
   "metadata": {
    "id": "14ed086b"
   },
   "source": [
    "We would like to trim unnecessary data in each column and convert it into a suitable datatype."
   ]
  },
  {
   "cell_type": "code",
   "execution_count": 20,
   "id": "e924da6f",
   "metadata": {
    "colab": {
     "base_uri": "https://localhost:8080/"
    },
    "executionInfo": {
     "elapsed": 14,
     "status": "ok",
     "timestamp": 1648563515328,
     "user": {
      "displayName": "Marcus Ong",
      "userId": "05632519426638303428"
     },
     "user_tz": -480
    },
    "id": "e924da6f",
    "outputId": "2c6507ca-529f-4de1-9c3e-98110ae5ecb9"
   },
   "outputs": [
    {
     "data": {
      "text/plain": [
       "CarID              object\n",
       "CarName            object\n",
       "Price              object\n",
       "Depreciation       object\n",
       "Mileage            object\n",
       "Road Tax           object\n",
       "Dereg Value        object\n",
       "COE                object\n",
       "Engine Cap         object\n",
       "Curb Weight        object\n",
       "Type of Vehicle    object\n",
       "Reg Date           object\n",
       "Transmission       object\n",
       "OMV                object\n",
       "ARF                object\n",
       "Power              object\n",
       "No of Owners        int64\n",
       "dtype: object"
      ]
     },
     "execution_count": 20,
     "metadata": {},
     "output_type": "execute_result"
    }
   ],
   "source": [
    "df.dtypes"
   ]
  },
  {
   "cell_type": "markdown",
   "id": "10388837",
   "metadata": {
    "id": "10388837"
   },
   "source": [
    "Changing CarID data type to int type."
   ]
  },
  {
   "cell_type": "code",
   "execution_count": 21,
   "id": "dec1cbba",
   "metadata": {
    "id": "dec1cbba"
   },
   "outputs": [],
   "source": [
    "df = df.astype({'CarID' : 'int64'})"
   ]
  },
  {
   "cell_type": "markdown",
   "id": "63693477",
   "metadata": {
    "id": "63693477"
   },
   "source": [
    "Modifying data in 'Price' Column & converting to int data type."
   ]
  },
  {
   "cell_type": "code",
   "execution_count": 22,
   "id": "9d6c4b20",
   "metadata": {
    "id": "9d6c4b20"
   },
   "outputs": [],
   "source": [
    "for index in df['Price'].index:\n",
    "    temp = df['Price'].loc[index].lstrip(\"$\")\n",
    "    temp = temp.replace(',',\"\")\n",
    "    df['Price'] = df['Price'].replace(df['Price'].loc[index],temp)\n",
    "    "
   ]
  },
  {
   "cell_type": "code",
   "execution_count": 23,
   "id": "d99ca806",
   "metadata": {
    "id": "d99ca806"
   },
   "outputs": [],
   "source": [
    "df = df.astype({'Price' : 'int64'})"
   ]
  },
  {
   "cell_type": "markdown",
   "id": "beb78d7e",
   "metadata": {
    "id": "beb78d7e"
   },
   "source": [
    "Modifying data in 'Depreciation' Column & converting to int data type."
   ]
  },
  {
   "cell_type": "code",
   "execution_count": 24,
   "id": "0ba4fb13",
   "metadata": {
    "id": "0ba4fb13"
   },
   "outputs": [],
   "source": [
    "for index in df['Depreciation'].index:\n",
    "    temp = df['Depreciation'].loc[index].lstrip(\"$\")\n",
    "    if ('/yr' in temp):\n",
    "        temp = temp.split(\"/\")[0]\n",
    "    temp = temp.rstrip()\n",
    "    temp = temp.replace(',',\"\")\n",
    "    df['Depreciation'] = df['Depreciation'].replace(df['Depreciation'].loc[index],temp)"
   ]
  },
  {
   "cell_type": "code",
   "execution_count": 25,
   "id": "ed3ceff9",
   "metadata": {
    "id": "ed3ceff9"
   },
   "outputs": [],
   "source": [
    "df = df.astype({'Depreciation' : 'int64'})"
   ]
  },
  {
   "cell_type": "markdown",
   "id": "63dbc8aa",
   "metadata": {
    "id": "63dbc8aa"
   },
   "source": [
    "Modifying data in 'Mileage' Column & converting to int data type."
   ]
  },
  {
   "cell_type": "code",
   "execution_count": 26,
   "id": "0117a9c1",
   "metadata": {
    "id": "0117a9c1"
   },
   "outputs": [],
   "source": [
    "for index in df['Mileage'].index:\n",
    "    temp = df['Mileage'].loc[index].split(\"km\")[0]\n",
    "    temp = temp.rstrip()\n",
    "    temp = temp.replace(',',\"\")\n",
    "    df['Mileage'] = df['Mileage'].replace(df['Mileage'].loc[index],temp)"
   ]
  },
  {
   "cell_type": "code",
   "execution_count": 27,
   "id": "fd388dc0",
   "metadata": {
    "id": "fd388dc0"
   },
   "outputs": [],
   "source": [
    "df = df.astype({'Mileage' : 'int64'})"
   ]
  },
  {
   "cell_type": "markdown",
   "id": "e3464e31",
   "metadata": {
    "id": "e3464e31"
   },
   "source": [
    "Modifying data in 'Road Tax' Column & converting to int data type."
   ]
  },
  {
   "cell_type": "code",
   "execution_count": 28,
   "id": "f885e0fc",
   "metadata": {
    "id": "f885e0fc"
   },
   "outputs": [],
   "source": [
    "for index in df['Road Tax'].index:\n",
    "    temp = df['Road Tax'].loc[index].lstrip(\"$\")\n",
    "    temp = temp.split(\"/yr\")[0]\n",
    "    temp = temp.rstrip()\n",
    "    temp = temp.replace(',',\"\")\n",
    "    df['Road Tax'] = df['Road Tax'].replace(df['Road Tax'].loc[index],temp)"
   ]
  },
  {
   "cell_type": "code",
   "execution_count": 29,
   "id": "8429bb6e",
   "metadata": {
    "id": "8429bb6e"
   },
   "outputs": [],
   "source": [
    "df = df.astype({'Road Tax' : 'int64'})"
   ]
  },
  {
   "cell_type": "markdown",
   "id": "659a17a6",
   "metadata": {
    "id": "659a17a6"
   },
   "source": [
    "Modifying data in 'Dereg Value' Column & converting to int data type."
   ]
  },
  {
   "cell_type": "code",
   "execution_count": 30,
   "id": "d072824a",
   "metadata": {
    "id": "d072824a"
   },
   "outputs": [],
   "source": [
    "for index in df['Dereg Value'].index:\n",
    "    temp = df['Dereg Value'].loc[index].lstrip(\"$\")\n",
    "    temp = temp.split(\"as\")[0]\n",
    "    temp = temp.rstrip()\n",
    "    temp = temp.replace(',',\"\")\n",
    "    df['Dereg Value'] = df['Dereg Value'].replace(df['Dereg Value'].loc[index],temp)"
   ]
  },
  {
   "cell_type": "code",
   "execution_count": 31,
   "id": "506be143",
   "metadata": {
    "id": "506be143"
   },
   "outputs": [],
   "source": [
    "df = df.astype({'Dereg Value' : 'int64'})"
   ]
  },
  {
   "cell_type": "markdown",
   "id": "f9abe3fd",
   "metadata": {
    "id": "f9abe3fd"
   },
   "source": [
    "Modifying data in 'COE' Column & converting to int data type."
   ]
  },
  {
   "cell_type": "code",
   "execution_count": 32,
   "id": "bccf6a8f",
   "metadata": {
    "id": "bccf6a8f"
   },
   "outputs": [],
   "source": [
    "for index in df['COE'].index:\n",
    "    temp = df['COE'].loc[index].lstrip(\"$\")\n",
    "    temp = temp.replace(',',\"\")\n",
    "    df['COE'] = df['COE'].replace(df['COE'].loc[index],temp)"
   ]
  },
  {
   "cell_type": "code",
   "execution_count": 33,
   "id": "c25a77c4",
   "metadata": {
    "id": "c25a77c4"
   },
   "outputs": [],
   "source": [
    "df = df.astype({'COE' : 'int64'})"
   ]
  },
  {
   "cell_type": "markdown",
   "id": "4c731a83",
   "metadata": {
    "id": "4c731a83"
   },
   "source": [
    "Modifying data in 'Engine Cap' Column & converting to int data type."
   ]
  },
  {
   "cell_type": "code",
   "execution_count": 34,
   "id": "0a3a7e10",
   "metadata": {
    "id": "0a3a7e10"
   },
   "outputs": [],
   "source": [
    "for index in df['Engine Cap'].index:\n",
    "    temp = df['Engine Cap'].loc[index]\n",
    "    temp = temp.replace('cc',\"\")\n",
    "    temp = temp.rstrip()\n",
    "    temp = temp.replace(',',\"\")\n",
    "    df['Engine Cap'] = df['Engine Cap'].replace(df['Engine Cap'].loc[index],temp)"
   ]
  },
  {
   "cell_type": "code",
   "execution_count": 35,
   "id": "b69b0f37",
   "metadata": {
    "id": "b69b0f37"
   },
   "outputs": [],
   "source": [
    "df = df.astype({'Engine Cap' : 'int64'})"
   ]
  },
  {
   "cell_type": "markdown",
   "id": "ecc83ea6",
   "metadata": {
    "id": "ecc83ea6"
   },
   "source": [
    "Modifying data in 'Curb Weight' Column & converting to int data type."
   ]
  },
  {
   "cell_type": "code",
   "execution_count": 36,
   "id": "fa8519f2",
   "metadata": {
    "id": "fa8519f2"
   },
   "outputs": [],
   "source": [
    "for index in df['Curb Weight'].index:\n",
    "    temp = df['Curb Weight'].loc[index]\n",
    "    temp = temp.replace('kg',\"\")\n",
    "    temp = temp.rstrip()\n",
    "    temp = temp.replace(',',\"\")\n",
    "    df['Curb Weight'] = df['Curb Weight'].replace(df['Curb Weight'].loc[index],temp)"
   ]
  },
  {
   "cell_type": "code",
   "execution_count": 37,
   "id": "37a6d118",
   "metadata": {
    "id": "37a6d118"
   },
   "outputs": [],
   "source": [
    "df = df.astype({'Curb Weight' : 'int64'})"
   ]
  },
  {
   "cell_type": "markdown",
   "id": "ca911482",
   "metadata": {
    "id": "ca911482"
   },
   "source": [
    "Modifying data in 'Reg Date' Column.\n",
    "\n",
    "Here, we are going to:\n",
    "1) Convert 'Reg Date' data into datetime64[ns] data type  \n",
    "2) Extract the duration of COE left"
   ]
  },
  {
   "cell_type": "code",
   "execution_count": 38,
   "id": "4fcd8a10",
   "metadata": {
    "colab": {
     "base_uri": "https://localhost:8080/"
    },
    "executionInfo": {
     "elapsed": 4,
     "status": "ok",
     "timestamp": 1648563564773,
     "user": {
      "displayName": "Marcus Ong",
      "userId": "05632519426638303428"
     },
     "user_tz": -480
    },
    "id": "4fcd8a10",
    "outputId": "502043fc-e7e2-456e-9605-32586f25b69e",
    "scrolled": true
   },
   "outputs": [
    {
     "data": {
      "text/plain": [
       "0       08-Jul-2019\\n(7yrs 3mths 13days COE left)\n",
       "1        28-Oct-2016\\n(4yrs 7mths 3days COE left)\n",
       "2       20-Sep-2018\\n(6yrs 5mths 26days COE left)\n",
       "3             25-Sep-2008\\n(6yrs 6mths  COE left)\n",
       "4       13-Nov-2018\\n(6yrs 7mths 19days COE left)\n",
       "                          ...                    \n",
       "8003    16-Jun-2016\\n(4yrs 2mths 22days COE left)\n",
       "8004     30-Oct-2015\\n(3yrs 7mths 5days COE left)\n",
       "8005    31-Jan-2019\\n(6yrs 10mths 6days COE left)\n",
       "8006      31-Jul-2008\\n(6yrs 1mth 6days COE left)\n",
       "8007    18-Dec-2018\\n(6yrs 8mths 23days COE left)\n",
       "Name: Reg Date, Length: 8008, dtype: object"
      ]
     },
     "execution_count": 38,
     "metadata": {},
     "output_type": "execute_result"
    }
   ],
   "source": [
    "df['Reg Date']"
   ]
  },
  {
   "cell_type": "code",
   "execution_count": 39,
   "id": "3e3f2b86",
   "metadata": {
    "id": "3e3f2b86"
   },
   "outputs": [],
   "source": [
    "COE_array = []\n",
    "\n",
    "for index in df['Reg Date'].index:\n",
    "    temp_array = df['Reg Date'].loc[index].split(\"\\n\")\n",
    "    date = temp_array[0]\n",
    "    if (len(temp_array) > 1): \n",
    "        COE_left = temp_array[1]\n",
    "    COE_left = COE_left.lstrip(\"(\")\n",
    "    COE_left = COE_left.split(\"COE\")[0]\n",
    "    COE_left = COE_left.rstrip()\n",
    "    \n",
    "    COE_array.append(COE_left)\n",
    "    \n",
    "    df['Reg Date'] = df['Reg Date'].replace(df['Reg Date'].loc[index],date)\n",
    "    "
   ]
  },
  {
   "cell_type": "code",
   "execution_count": 40,
   "id": "26e272cd",
   "metadata": {
    "id": "26e272cd"
   },
   "outputs": [],
   "source": [
    "df['Reg Date'] = pd.to_datetime(df['Reg Date'])"
   ]
  },
  {
   "cell_type": "code",
   "execution_count": 41,
   "id": "a6d69a83",
   "metadata": {
    "id": "a6d69a83"
   },
   "outputs": [],
   "source": [
    "converted_COE_array = []\n",
    "\n",
    "for String in COE_array:\n",
    "    int_array = [0,0,0]\n",
    "    temp_array = String.split()\n",
    "    for temp_string in temp_array:\n",
    "        if 'yr' in temp_string:\n",
    "            temp = temp_string.split(\"y\")[0]\n",
    "            int_array[0] = int(temp)\n",
    "        elif 'mth' in temp_string:\n",
    "            temp = temp_string.split(\"m\")[0]\n",
    "            int_array[1] = int(temp)\n",
    "        elif 'day' in temp_string:\n",
    "            temp = temp_string.split(\"d\")[0]\n",
    "            int_array[2] = int(temp)\n",
    "    converted_COE_array.append(int_array)"
   ]
  },
  {
   "cell_type": "code",
   "execution_count": 42,
   "id": "ecb87401",
   "metadata": {
    "id": "ecb87401"
   },
   "outputs": [],
   "source": [
    "df.insert(df.columns.get_loc('Transmission'), \"COE Expiry Date\", None)"
   ]
  },
  {
   "cell_type": "code",
   "execution_count": 43,
   "id": "0f1a76f3",
   "metadata": {
    "id": "0f1a76f3"
   },
   "outputs": [],
   "source": [
    "df['COE Expiry Date'] = pd.to_datetime(df['COE Expiry Date'])"
   ]
  },
  {
   "cell_type": "markdown",
   "id": "0de862b6",
   "metadata": {
    "id": "0de862b6"
   },
   "source": [
    "In the following code, we set the date to **24 March 2022** as it was the date when we webscrapped the website."
   ]
  },
  {
   "cell_type": "code",
   "execution_count": 44,
   "id": "fa594093",
   "metadata": {
    "id": "fa594093"
   },
   "outputs": [],
   "source": [
    "timeseries = []\n",
    "\n",
    "for index in df['COE Expiry Date'].index:\n",
    "    ts = pd.to_datetime(\"2022/3/24\")\n",
    "    ts = ts + pd.DateOffset(years = converted_COE_array[index][0], months = converted_COE_array[index][1], days = converted_COE_array[index][2])\n",
    "    timeseries.append(ts)\n",
    "    \n",
    "df['COE Expiry Date'] = timeseries"
   ]
  },
  {
   "cell_type": "code",
   "execution_count": 45,
   "id": "641973d3",
   "metadata": {
    "id": "641973d3"
   },
   "outputs": [],
   "source": [
    "df.insert(df.columns.get_loc('Transmission'), \"COE Duration\", None)"
   ]
  },
  {
   "cell_type": "code",
   "execution_count": 46,
   "id": "2569bdcf",
   "metadata": {
    "id": "2569bdcf"
   },
   "outputs": [],
   "source": [
    "array = []\n",
    "\n",
    "for index in df['COE Duration'].index:\n",
    "    ts = pd.to_datetime(\"2022/3/24\")\n",
    "    difference = (df['COE Expiry Date'].loc[index] - ts).days\n",
    "    array.append(difference)\n",
    "\n",
    "df['COE Duration'] = array"
   ]
  },
  {
   "cell_type": "code",
   "execution_count": 47,
   "id": "d6db7673",
   "metadata": {
    "colab": {
     "base_uri": "https://localhost:8080/"
    },
    "executionInfo": {
     "elapsed": 2,
     "status": "ok",
     "timestamp": 1648563573096,
     "user": {
      "displayName": "Marcus Ong",
      "userId": "05632519426638303428"
     },
     "user_tz": -480
    },
    "id": "d6db7673",
    "outputId": "99e52523-d774-4a13-d69f-9c7925f09013"
   },
   "outputs": [
    {
     "name": "stdout",
     "output_type": "stream",
     "text": [
      "<class 'pandas.core.frame.DataFrame'>\n",
      "RangeIndex: 8008 entries, 0 to 8007\n",
      "Data columns (total 19 columns):\n",
      " #   Column           Non-Null Count  Dtype         \n",
      "---  ------           --------------  -----         \n",
      " 0   CarID            8008 non-null   int64         \n",
      " 1   CarName          8008 non-null   object        \n",
      " 2   Price            8008 non-null   int64         \n",
      " 3   Depreciation     8008 non-null   int64         \n",
      " 4   Mileage          8008 non-null   int64         \n",
      " 5   Road Tax         8008 non-null   int64         \n",
      " 6   Dereg Value      8008 non-null   int64         \n",
      " 7   COE              8008 non-null   int64         \n",
      " 8   Engine Cap       8008 non-null   int64         \n",
      " 9   Curb Weight      8008 non-null   int64         \n",
      " 10  Type of Vehicle  8008 non-null   object        \n",
      " 11  Reg Date         8008 non-null   datetime64[ns]\n",
      " 12  COE Expiry Date  8008 non-null   datetime64[ns]\n",
      " 13  COE Duration     8008 non-null   int64         \n",
      " 14  Transmission     8008 non-null   object        \n",
      " 15  OMV              8008 non-null   object        \n",
      " 16  ARF              8008 non-null   object        \n",
      " 17  Power            8008 non-null   object        \n",
      " 18  No of Owners     8008 non-null   int64         \n",
      "dtypes: datetime64[ns](2), int64(11), object(6)\n",
      "memory usage: 1.2+ MB\n"
     ]
    }
   ],
   "source": [
    "df.info()"
   ]
  },
  {
   "cell_type": "markdown",
   "id": "6d244b14",
   "metadata": {
    "id": "6d244b14"
   },
   "source": [
    "Modifying data in 'OMV' Column & converting to int data type."
   ]
  },
  {
   "cell_type": "code",
   "execution_count": 48,
   "id": "49eb46e0",
   "metadata": {
    "id": "49eb46e0"
   },
   "outputs": [],
   "source": [
    "for index in df['OMV'].index:\n",
    "    temp = df['OMV'].loc[index].lstrip(\"$\")\n",
    "    temp = temp.replace(',',\"\")\n",
    "    df['OMV'] = df['OMV'].replace(df['OMV'].loc[index],temp)"
   ]
  },
  {
   "cell_type": "code",
   "execution_count": 49,
   "id": "3c480fb0",
   "metadata": {
    "id": "3c480fb0"
   },
   "outputs": [],
   "source": [
    "df = df.astype({'OMV' : 'int64'})"
   ]
  },
  {
   "cell_type": "markdown",
   "id": "5a1ec8d3",
   "metadata": {
    "id": "5a1ec8d3"
   },
   "source": [
    "Modifying data in 'ARF' Column & converting to int data type."
   ]
  },
  {
   "cell_type": "code",
   "execution_count": 50,
   "id": "c4c82863",
   "metadata": {
    "id": "c4c82863"
   },
   "outputs": [],
   "source": [
    "for index in df['ARF'].index:\n",
    "    temp = df['ARF'].loc[index].lstrip(\"$\")\n",
    "    temp = temp.replace(',',\"\")\n",
    "    df['ARF'] = df['ARF'].replace(df['ARF'].loc[index],temp)"
   ]
  },
  {
   "cell_type": "code",
   "execution_count": 51,
   "id": "321c0472",
   "metadata": {
    "id": "321c0472"
   },
   "outputs": [],
   "source": [
    "df = df.astype({'ARF' : 'int64'})"
   ]
  },
  {
   "cell_type": "markdown",
   "id": "95a2e6f5",
   "metadata": {
    "id": "95a2e6f5"
   },
   "source": [
    "Modifying data in 'Power' Column & converting to float data type.  \n",
    "We are extracting kW instead of bhp."
   ]
  },
  {
   "cell_type": "code",
   "execution_count": 52,
   "id": "effc9df7",
   "metadata": {
    "id": "effc9df7"
   },
   "outputs": [],
   "source": [
    "for index in df['Power'].index:\n",
    "    temp = df['Power'].loc[index].split(\"kW\")[0]\n",
    "    temp = temp.rstrip()\n",
    "    df['Power'] = df['Power'].replace(df['Power'].loc[index],temp)"
   ]
  },
  {
   "cell_type": "code",
   "execution_count": 53,
   "id": "51d310ca",
   "metadata": {
    "id": "51d310ca"
   },
   "outputs": [],
   "source": [
    "df = df.astype({'Power' : 'float64'})"
   ]
  },
  {
   "cell_type": "markdown",
   "id": "oJ5mq1UWPFR4",
   "metadata": {
    "id": "oJ5mq1UWPFR4"
   },
   "source": [
    "### 5) Adding 'CarAge' Column\n",
    "\n",
    "From 'Reg Date', we can determine the age of the car in days."
   ]
  },
  {
   "cell_type": "code",
   "execution_count": 54,
   "id": "cIrGwpB9PJ9G",
   "metadata": {
    "id": "cIrGwpB9PJ9G"
   },
   "outputs": [],
   "source": [
    "df.insert(df.columns.get_loc('Price'), \"CarAge\", None)"
   ]
  },
  {
   "cell_type": "code",
   "execution_count": 55,
   "id": "AItCP97GPLR5",
   "metadata": {
    "id": "AItCP97GPLR5"
   },
   "outputs": [],
   "source": [
    "array = []\n",
    "\n",
    "for index in df['Reg Date'].index:\n",
    "    ts = pd.to_datetime(\"2022/3/24\")\n",
    "    difference = (ts - df['Reg Date'].loc[index]).days\n",
    "    array.append(difference)\n",
    "\n",
    "df['CarAge'] = array"
   ]
  },
  {
   "cell_type": "markdown",
   "id": "96fcf95e",
   "metadata": {
    "id": "96fcf95e"
   },
   "source": [
    "## Finished Cleaning\n",
    "\n",
    "Here's how our clean dataset looks:"
   ]
  },
  {
   "cell_type": "code",
   "execution_count": 56,
   "id": "ccaefade",
   "metadata": {
    "colab": {
     "base_uri": "https://localhost:8080/"
    },
    "executionInfo": {
     "elapsed": 12,
     "status": "ok",
     "timestamp": 1648563590853,
     "user": {
      "displayName": "Marcus Ong",
      "userId": "05632519426638303428"
     },
     "user_tz": -480
    },
    "id": "ccaefade",
    "outputId": "e7f425ad-40a7-44f7-ba24-06507153597f"
   },
   "outputs": [
    {
     "name": "stdout",
     "output_type": "stream",
     "text": [
      "<class 'pandas.core.frame.DataFrame'>\n",
      "RangeIndex: 8008 entries, 0 to 8007\n",
      "Data columns (total 20 columns):\n",
      " #   Column           Non-Null Count  Dtype         \n",
      "---  ------           --------------  -----         \n",
      " 0   CarID            8008 non-null   int64         \n",
      " 1   CarName          8008 non-null   object        \n",
      " 2   CarAge           8008 non-null   int64         \n",
      " 3   Price            8008 non-null   int64         \n",
      " 4   Depreciation     8008 non-null   int64         \n",
      " 5   Mileage          8008 non-null   int64         \n",
      " 6   Road Tax         8008 non-null   int64         \n",
      " 7   Dereg Value      8008 non-null   int64         \n",
      " 8   COE              8008 non-null   int64         \n",
      " 9   Engine Cap       8008 non-null   int64         \n",
      " 10  Curb Weight      8008 non-null   int64         \n",
      " 11  Type of Vehicle  8008 non-null   object        \n",
      " 12  Reg Date         8008 non-null   datetime64[ns]\n",
      " 13  COE Expiry Date  8008 non-null   datetime64[ns]\n",
      " 14  COE Duration     8008 non-null   int64         \n",
      " 15  Transmission     8008 non-null   object        \n",
      " 16  OMV              8008 non-null   int64         \n",
      " 17  ARF              8008 non-null   int64         \n",
      " 18  Power            8008 non-null   float64       \n",
      " 19  No of Owners     8008 non-null   int64         \n",
      "dtypes: datetime64[ns](2), float64(1), int64(14), object(3)\n",
      "memory usage: 1.2+ MB\n"
     ]
    }
   ],
   "source": [
    "df.info()"
   ]
  },
  {
   "cell_type": "code",
   "execution_count": 57,
   "id": "aa657e15",
   "metadata": {
    "colab": {
     "base_uri": "https://localhost:8080/",
     "height": 1000
    },
    "executionInfo": {
     "elapsed": 12,
     "status": "ok",
     "timestamp": 1648563590854,
     "user": {
      "displayName": "Marcus Ong",
      "userId": "05632519426638303428"
     },
     "user_tz": -480
    },
    "id": "aa657e15",
    "outputId": "bb022de3-eb0d-44f1-9c97-bbcfd8b2e0a7"
   },
   "outputs": [
    {
     "data": {
      "text/html": [
       "<div>\n",
       "<style scoped>\n",
       "    .dataframe tbody tr th:only-of-type {\n",
       "        vertical-align: middle;\n",
       "    }\n",
       "\n",
       "    .dataframe tbody tr th {\n",
       "        vertical-align: top;\n",
       "    }\n",
       "\n",
       "    .dataframe thead th {\n",
       "        text-align: right;\n",
       "    }\n",
       "</style>\n",
       "<table border=\"1\" class=\"dataframe\">\n",
       "  <thead>\n",
       "    <tr style=\"text-align: right;\">\n",
       "      <th></th>\n",
       "      <th>CarID</th>\n",
       "      <th>CarName</th>\n",
       "      <th>CarAge</th>\n",
       "      <th>Price</th>\n",
       "      <th>Depreciation</th>\n",
       "      <th>Mileage</th>\n",
       "      <th>Road Tax</th>\n",
       "      <th>Dereg Value</th>\n",
       "      <th>COE</th>\n",
       "      <th>Engine Cap</th>\n",
       "      <th>Curb Weight</th>\n",
       "      <th>Type of Vehicle</th>\n",
       "      <th>Reg Date</th>\n",
       "      <th>COE Expiry Date</th>\n",
       "      <th>COE Duration</th>\n",
       "      <th>Transmission</th>\n",
       "      <th>OMV</th>\n",
       "      <th>ARF</th>\n",
       "      <th>Power</th>\n",
       "      <th>No of Owners</th>\n",
       "    </tr>\n",
       "  </thead>\n",
       "  <tbody>\n",
       "    <tr>\n",
       "      <th>0</th>\n",
       "      <td>1081489</td>\n",
       "      <td>Volvo V40 T4 R-Design</td>\n",
       "      <td>990</td>\n",
       "      <td>115800</td>\n",
       "      <td>14120</td>\n",
       "      <td>17000</td>\n",
       "      <td>1176</td>\n",
       "      <td>44075</td>\n",
       "      <td>34000</td>\n",
       "      <td>1969</td>\n",
       "      <td>1454</td>\n",
       "      <td>Hatchback</td>\n",
       "      <td>2019-07-08</td>\n",
       "      <td>2029-07-07</td>\n",
       "      <td>2662</td>\n",
       "      <td>Auto</td>\n",
       "      <td>24074</td>\n",
       "      <td>25704</td>\n",
       "      <td>140.0</td>\n",
       "      <td>1</td>\n",
       "    </tr>\n",
       "    <tr>\n",
       "      <th>1</th>\n",
       "      <td>1070886</td>\n",
       "      <td>Land Rover Range Rover Sport Diesel 3.0A 7-Seater</td>\n",
       "      <td>1973</td>\n",
       "      <td>188888</td>\n",
       "      <td>27100</td>\n",
       "      <td>133000</td>\n",
       "      <td>3376</td>\n",
       "      <td>115977</td>\n",
       "      <td>56956</td>\n",
       "      <td>2993</td>\n",
       "      <td>2183</td>\n",
       "      <td>SUV</td>\n",
       "      <td>2016-10-28</td>\n",
       "      <td>2026-10-27</td>\n",
       "      <td>1678</td>\n",
       "      <td>Auto</td>\n",
       "      <td>86985</td>\n",
       "      <td>128573</td>\n",
       "      <td>225.0</td>\n",
       "      <td>2</td>\n",
       "    </tr>\n",
       "    <tr>\n",
       "      <th>2</th>\n",
       "      <td>1082885</td>\n",
       "      <td>Volvo XC60 T5 Momentum</td>\n",
       "      <td>1281</td>\n",
       "      <td>170000</td>\n",
       "      <td>22680</td>\n",
       "      <td>58000</td>\n",
       "      <td>1176</td>\n",
       "      <td>54933</td>\n",
       "      <td>32311</td>\n",
       "      <td>1969</td>\n",
       "      <td>1841</td>\n",
       "      <td>SUV</td>\n",
       "      <td>2018-09-20</td>\n",
       "      <td>2028-09-19</td>\n",
       "      <td>2371</td>\n",
       "      <td>Auto</td>\n",
       "      <td>38070</td>\n",
       "      <td>45298</td>\n",
       "      <td>187.0</td>\n",
       "      <td>1</td>\n",
       "    </tr>\n",
       "    <tr>\n",
       "      <th>3</th>\n",
       "      <td>1080087</td>\n",
       "      <td>Toyota Voxy 2.0A X</td>\n",
       "      <td>4928</td>\n",
       "      <td>68888</td>\n",
       "      <td>10580</td>\n",
       "      <td>176000</td>\n",
       "      <td>1674</td>\n",
       "      <td>21727</td>\n",
       "      <td>33377</td>\n",
       "      <td>1986</td>\n",
       "      <td>1560</td>\n",
       "      <td>MPV</td>\n",
       "      <td>2008-09-25</td>\n",
       "      <td>2028-09-24</td>\n",
       "      <td>2376</td>\n",
       "      <td>Auto</td>\n",
       "      <td>22387</td>\n",
       "      <td>22387</td>\n",
       "      <td>105.0</td>\n",
       "      <td>4</td>\n",
       "    </tr>\n",
       "    <tr>\n",
       "      <th>4</th>\n",
       "      <td>1079487</td>\n",
       "      <td>Audi A3 Sedan 1.4A TFSI CoD S-tronic</td>\n",
       "      <td>1227</td>\n",
       "      <td>100800</td>\n",
       "      <td>13290</td>\n",
       "      <td>96775</td>\n",
       "      <td>624</td>\n",
       "      <td>40187</td>\n",
       "      <td>32302</td>\n",
       "      <td>1395</td>\n",
       "      <td>1320</td>\n",
       "      <td>Luxury Sedan</td>\n",
       "      <td>2018-11-13</td>\n",
       "      <td>2028-11-12</td>\n",
       "      <td>2425</td>\n",
       "      <td>Auto</td>\n",
       "      <td>23548</td>\n",
       "      <td>24968</td>\n",
       "      <td>110.0</td>\n",
       "      <td>1</td>\n",
       "    </tr>\n",
       "    <tr>\n",
       "      <th>...</th>\n",
       "      <td>...</td>\n",
       "      <td>...</td>\n",
       "      <td>...</td>\n",
       "      <td>...</td>\n",
       "      <td>...</td>\n",
       "      <td>...</td>\n",
       "      <td>...</td>\n",
       "      <td>...</td>\n",
       "      <td>...</td>\n",
       "      <td>...</td>\n",
       "      <td>...</td>\n",
       "      <td>...</td>\n",
       "      <td>...</td>\n",
       "      <td>...</td>\n",
       "      <td>...</td>\n",
       "      <td>...</td>\n",
       "      <td>...</td>\n",
       "      <td>...</td>\n",
       "      <td>...</td>\n",
       "      <td>...</td>\n",
       "    </tr>\n",
       "    <tr>\n",
       "      <th>8003</th>\n",
       "      <td>1083139</td>\n",
       "      <td>BMW 3 Series 320i Sport</td>\n",
       "      <td>2107</td>\n",
       "      <td>94888</td>\n",
       "      <td>18090</td>\n",
       "      <td>28099</td>\n",
       "      <td>1210</td>\n",
       "      <td>48971</td>\n",
       "      <td>55100</td>\n",
       "      <td>1998</td>\n",
       "      <td>1450</td>\n",
       "      <td>Luxury Sedan</td>\n",
       "      <td>2016-06-16</td>\n",
       "      <td>2024-02-19</td>\n",
       "      <td>697</td>\n",
       "      <td>Auto</td>\n",
       "      <td>35497</td>\n",
       "      <td>36696</td>\n",
       "      <td>135.0</td>\n",
       "      <td>1</td>\n",
       "    </tr>\n",
       "    <tr>\n",
       "      <th>8004</th>\n",
       "      <td>1041762</td>\n",
       "      <td>Audi Q3 1.4A TFSI S-Tronic</td>\n",
       "      <td>2337</td>\n",
       "      <td>75800</td>\n",
       "      <td>16340</td>\n",
       "      <td>92000</td>\n",
       "      <td>624</td>\n",
       "      <td>43574</td>\n",
       "      <td>60000</td>\n",
       "      <td>1395</td>\n",
       "      <td>1480</td>\n",
       "      <td>SUV</td>\n",
       "      <td>2015-10-30</td>\n",
       "      <td>2024-02-19</td>\n",
       "      <td>697</td>\n",
       "      <td>Auto</td>\n",
       "      <td>29913</td>\n",
       "      <td>33879</td>\n",
       "      <td>110.0</td>\n",
       "      <td>1</td>\n",
       "    </tr>\n",
       "    <tr>\n",
       "      <th>8005</th>\n",
       "      <td>1071766</td>\n",
       "      <td>Mercedes-Benz E-Class E200 Avantgarde Panoramic</td>\n",
       "      <td>1148</td>\n",
       "      <td>171800</td>\n",
       "      <td>20330</td>\n",
       "      <td>38162</td>\n",
       "      <td>1202</td>\n",
       "      <td>70581</td>\n",
       "      <td>32200</td>\n",
       "      <td>1991</td>\n",
       "      <td>1615</td>\n",
       "      <td>Luxury Sedan</td>\n",
       "      <td>2019-01-31</td>\n",
       "      <td>2024-02-19</td>\n",
       "      <td>697</td>\n",
       "      <td>Auto</td>\n",
       "      <td>51474</td>\n",
       "      <td>64654</td>\n",
       "      <td>135.0</td>\n",
       "      <td>1</td>\n",
       "    </tr>\n",
       "    <tr>\n",
       "      <th>8006</th>\n",
       "      <td>1076962</td>\n",
       "      <td>BMW 6 Series 630i Coupe</td>\n",
       "      <td>4984</td>\n",
       "      <td>78800</td>\n",
       "      <td>12900</td>\n",
       "      <td>95000</td>\n",
       "      <td>3335</td>\n",
       "      <td>24965</td>\n",
       "      <td>40881</td>\n",
       "      <td>2996</td>\n",
       "      <td>1540</td>\n",
       "      <td>Sports Car</td>\n",
       "      <td>2008-07-31</td>\n",
       "      <td>2028-04-30</td>\n",
       "      <td>2229</td>\n",
       "      <td>Auto</td>\n",
       "      <td>83812</td>\n",
       "      <td>83812</td>\n",
       "      <td>200.0</td>\n",
       "      <td>3</td>\n",
       "    </tr>\n",
       "    <tr>\n",
       "      <th>8007</th>\n",
       "      <td>1068494</td>\n",
       "      <td>MINI One 1.5A 5DR</td>\n",
       "      <td>1192</td>\n",
       "      <td>103900</td>\n",
       "      <td>14150</td>\n",
       "      <td>34000</td>\n",
       "      <td>684</td>\n",
       "      <td>31566</td>\n",
       "      <td>28000</td>\n",
       "      <td>1499</td>\n",
       "      <td>1225</td>\n",
       "      <td>Hatchback</td>\n",
       "      <td>2018-12-18</td>\n",
       "      <td>2028-04-30</td>\n",
       "      <td>2229</td>\n",
       "      <td>Auto</td>\n",
       "      <td>24947</td>\n",
       "      <td>16926</td>\n",
       "      <td>75.0</td>\n",
       "      <td>1</td>\n",
       "    </tr>\n",
       "  </tbody>\n",
       "</table>\n",
       "<p>8008 rows × 20 columns</p>\n",
       "</div>"
      ],
      "text/plain": [
       "        CarID                                            CarName  CarAge  \\\n",
       "0     1081489                              Volvo V40 T4 R-Design     990   \n",
       "1     1070886  Land Rover Range Rover Sport Diesel 3.0A 7-Seater    1973   \n",
       "2     1082885                             Volvo XC60 T5 Momentum    1281   \n",
       "3     1080087                                 Toyota Voxy 2.0A X    4928   \n",
       "4     1079487               Audi A3 Sedan 1.4A TFSI CoD S-tronic    1227   \n",
       "...       ...                                                ...     ...   \n",
       "8003  1083139                            BMW 3 Series 320i Sport    2107   \n",
       "8004  1041762                         Audi Q3 1.4A TFSI S-Tronic    2337   \n",
       "8005  1071766    Mercedes-Benz E-Class E200 Avantgarde Panoramic    1148   \n",
       "8006  1076962                            BMW 6 Series 630i Coupe    4984   \n",
       "8007  1068494                                  MINI One 1.5A 5DR    1192   \n",
       "\n",
       "       Price  Depreciation  Mileage  Road Tax  Dereg Value    COE  Engine Cap  \\\n",
       "0     115800         14120    17000      1176        44075  34000        1969   \n",
       "1     188888         27100   133000      3376       115977  56956        2993   \n",
       "2     170000         22680    58000      1176        54933  32311        1969   \n",
       "3      68888         10580   176000      1674        21727  33377        1986   \n",
       "4     100800         13290    96775       624        40187  32302        1395   \n",
       "...      ...           ...      ...       ...          ...    ...         ...   \n",
       "8003   94888         18090    28099      1210        48971  55100        1998   \n",
       "8004   75800         16340    92000       624        43574  60000        1395   \n",
       "8005  171800         20330    38162      1202        70581  32200        1991   \n",
       "8006   78800         12900    95000      3335        24965  40881        2996   \n",
       "8007  103900         14150    34000       684        31566  28000        1499   \n",
       "\n",
       "      Curb Weight Type of Vehicle   Reg Date COE Expiry Date  COE Duration  \\\n",
       "0            1454       Hatchback 2019-07-08      2029-07-07          2662   \n",
       "1            2183             SUV 2016-10-28      2026-10-27          1678   \n",
       "2            1841             SUV 2018-09-20      2028-09-19          2371   \n",
       "3            1560             MPV 2008-09-25      2028-09-24          2376   \n",
       "4            1320    Luxury Sedan 2018-11-13      2028-11-12          2425   \n",
       "...           ...             ...        ...             ...           ...   \n",
       "8003         1450    Luxury Sedan 2016-06-16      2024-02-19           697   \n",
       "8004         1480             SUV 2015-10-30      2024-02-19           697   \n",
       "8005         1615    Luxury Sedan 2019-01-31      2024-02-19           697   \n",
       "8006         1540      Sports Car 2008-07-31      2028-04-30          2229   \n",
       "8007         1225       Hatchback 2018-12-18      2028-04-30          2229   \n",
       "\n",
       "     Transmission    OMV     ARF  Power  No of Owners  \n",
       "0            Auto  24074   25704  140.0             1  \n",
       "1            Auto  86985  128573  225.0             2  \n",
       "2            Auto  38070   45298  187.0             1  \n",
       "3            Auto  22387   22387  105.0             4  \n",
       "4            Auto  23548   24968  110.0             1  \n",
       "...           ...    ...     ...    ...           ...  \n",
       "8003         Auto  35497   36696  135.0             1  \n",
       "8004         Auto  29913   33879  110.0             1  \n",
       "8005         Auto  51474   64654  135.0             1  \n",
       "8006         Auto  83812   83812  200.0             3  \n",
       "8007         Auto  24947   16926   75.0             1  \n",
       "\n",
       "[8008 rows x 20 columns]"
      ]
     },
     "execution_count": 57,
     "metadata": {},
     "output_type": "execute_result"
    }
   ],
   "source": [
    "df"
   ]
  },
  {
   "cell_type": "markdown",
   "id": "7ac5abc1",
   "metadata": {
    "id": "7ac5abc1"
   },
   "source": [
    "## Export to csv\n",
    "\n",
    "We can export this csv file using the following command:"
   ]
  },
  {
   "cell_type": "code",
   "execution_count": 58,
   "id": "cdddc5fa",
   "metadata": {
    "colab": {
     "base_uri": "https://localhost:8080/",
     "height": 218
    },
    "executionInfo": {
     "elapsed": 34,
     "status": "error",
     "timestamp": 1648622250098,
     "user": {
      "displayName": "Dexpe",
      "userId": "00847663992880759401"
     },
     "user_tz": -480
    },
    "id": "cdddc5fa",
    "outputId": "f2ad297d-b224-4069-9f63-960f0c8d1125"
   },
   "outputs": [],
   "source": [
    "df.to_csv('Clean sgcarmart dataset as of 24MAR2022.csv', index=False)"
   ]
  }
 ],
 "metadata": {
  "colab": {
   "collapsed_sections": [],
   "name": "CleaningDataSet.ipynb",
   "provenance": []
  },
  "kernelspec": {
   "display_name": "Python 3",
   "language": "python",
   "name": "python3"
  },
  "language_info": {
   "codemirror_mode": {
    "name": "ipython",
    "version": 3
   },
   "file_extension": ".py",
   "mimetype": "text/x-python",
   "name": "python",
   "nbconvert_exporter": "python",
   "pygments_lexer": "ipython3",
   "version": "3.8.8"
  }
 },
 "nbformat": 4,
 "nbformat_minor": 5
}
